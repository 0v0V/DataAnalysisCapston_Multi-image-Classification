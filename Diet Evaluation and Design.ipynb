{
 "cells": [
  {
   "cell_type": "code",
   "execution_count": 1,
   "metadata": {
    "id": "MZhrFvwYmq6Y"
   },
   "outputs": [],
   "source": [
    "import numpy as np\n",
    "import sys\n",
    "import os\n",
    "import random \n",
    "import pandas as pd\n",
    "import torch\n",
    "from torch import nn, cuda, optim\n",
    "from torchvision import models,transforms,datasets\n",
    "from torch.utils.data import DataLoader,random_split, dataset\n",
    "import seaborn as sns\n",
    "import torch.nn.functional as F\n",
    "import torch.nn as nn\n",
    "from math import ceil\n",
    "import shutil\n",
    "import time\n",
    "import copy\n",
    "from sklearn.metrics import confusion_matrix\n",
    "import seaborn as sn\n",
    "from sklearn.metrics import classification_report\n",
    "\n",
    "import matplotlib.pyplot as plt\n",
    "from PIL import Image\n",
    "import seaborn as sns"
   ]
  },
  {
   "cell_type": "code",
   "execution_count": 2,
   "metadata": {
    "colab": {
     "base_uri": "https://localhost:8080/"
    },
    "id": "R0FBnMxdm5Ve",
    "outputId": "3b62879f-794a-46dc-b34b-5b60c463aca6"
   },
   "outputs": [
    {
     "name": "stdout",
     "output_type": "stream",
     "text": [
      "Mounted at /content/drive\n"
     ]
    }
   ],
   "source": [
    "from google.colab import drive\n",
    "drive.mount('/content/drive')"
   ]
  },
  {
   "cell_type": "code",
   "execution_count": 3,
   "metadata": {
    "id": "Mj35ER0do6TC"
   },
   "outputs": [],
   "source": [
    "df = pd.read_excel(\"/content/drive/MyDrive/DCD_2022/음식분류 AI 데이터 영양DB.xlsx\", engine = \"openpyxl\")"
   ]
  },
  {
   "cell_type": "code",
   "execution_count": 4,
   "metadata": {
    "id": "FAQHWrEGdJIt"
   },
   "outputs": [],
   "source": [
    "df = df.replace('-', 0)"
   ]
  },
  {
   "cell_type": "code",
   "execution_count": 5,
   "metadata": {
    "id": "V3HLUBXencoh"
   },
   "outputs": [],
   "source": [
    "device = torch.device('cuda:0' if cuda.is_available() else 'cpu')"
   ]
  },
  {
   "cell_type": "code",
   "execution_count": 6,
   "metadata": {
    "id": "SZhiCu0J0YrB"
   },
   "outputs": [],
   "source": [
    "class SEBlock(nn.Module):\n",
    "    def __init__(self, in_channels, r=16):\n",
    "        super().__init__()\n",
    "        self.squeeze = nn.AdaptiveAvgPool2d((1,1))\n",
    "        self.excitation = nn.Sequential(\n",
    "            nn.Linear(in_channels, in_channels // r),\n",
    "            nn.ReLU(),\n",
    "            nn.Linear(in_channels // r, in_channels),\n",
    "            nn.Sigmoid()\n",
    "        )\n",
    "\n",
    "    def forward(self, x):\n",
    "        x = self.squeeze(x)\n",
    "        x = x.view(x.size(0), -1) \n",
    "        x = self.excitation(x)\n",
    "        x = x.view(x.size(0), x.size(1), 1, 1)\n",
    "        return x\n",
    "\n",
    "# Depthwise Separable Convolution\n",
    "class Depthwise(nn.Module):\n",
    "    def __init__(self, in_channels, out_channels, stride=1):\n",
    "        super().__init__()\n",
    "\n",
    "        self.depthwise = nn.Sequential(\n",
    "            nn.Conv2d(in_channels, in_channels, 3, stride=stride, padding=1, groups=in_channels, bias=False),\n",
    "            nn.BatchNorm2d(in_channels),\n",
    "            nn.ReLU6(),\n",
    "        )\n",
    "\n",
    "        self.pointwise = nn.Sequential(\n",
    "            nn.Conv2d(in_channels, out_channels, 1, stride=1, padding=0, bias=False),\n",
    "            nn.BatchNorm2d(out_channels),\n",
    "            nn.ReLU6(),\n",
    "        )\n",
    "\n",
    "        self.seblock = SEBlock(out_channels)\n",
    "\n",
    "    def forward(self, x):\n",
    "        x = self.depthwise(x)\n",
    "        x = self.pointwise(x)\n",
    "        x = self.seblock(x) * x\n",
    "        return x\n",
    "\n",
    "\n",
    "# BasicConv2d\n",
    "class BasicConv2d(nn.Module):\n",
    "    def __init__(self, in_channels, out_channels, kernel_size, **kwargs):\n",
    "        super().__init__()\n",
    "\n",
    "        self.conv = nn.Sequential(\n",
    "            nn.Conv2d(in_channels, out_channels, kernel_size=kernel_size, **kwargs),\n",
    "            nn.BatchNorm2d(out_channels),\n",
    "            nn.ReLU6()\n",
    "        )\n",
    "\n",
    "    def forward(self, x):\n",
    "        x = self.conv(x)\n",
    "        return x\n",
    "\n",
    "\n",
    "# MobileNetV1\n",
    "class MobileNet(nn.Module):\n",
    "    def __init__(self, width_multiplier, num_classes=83, init_weights=True):\n",
    "        super().__init__()\n",
    "        self.init_weights=init_weights\n",
    "        alpha = width_multiplier\n",
    "\n",
    "        self.conv1 = BasicConv2d(3, int(32*alpha), 3, stride=2, padding=1)\n",
    "        self.conv2 = Depthwise(int(32*alpha), int(64*alpha), stride=1)\n",
    "        # down sample\n",
    "        self.conv3 = nn.Sequential(\n",
    "            Depthwise(int(64*alpha), int(128*alpha), stride=2),\n",
    "            Depthwise(int(128*alpha), int(128*alpha), stride=1)\n",
    "        )\n",
    "        # down sample\n",
    "        self.conv4 = nn.Sequential(\n",
    "            Depthwise(int(128*alpha), int(256*alpha), stride=2),\n",
    "            Depthwise(int(256*alpha), int(256*alpha), stride=1)\n",
    "        )\n",
    "        # down sample\n",
    "        self.conv5 = nn.Sequential(\n",
    "            Depthwise(int(256*alpha), int(512*alpha), stride=2),\n",
    "            Depthwise(int(512*alpha), int(512*alpha), stride=1),\n",
    "            Depthwise(int(512*alpha), int(512*alpha), stride=1),\n",
    "            Depthwise(int(512*alpha), int(512*alpha), stride=1),\n",
    "            Depthwise(int(512*alpha), int(512*alpha), stride=1),\n",
    "            Depthwise(int(512*alpha), int(512*alpha), stride=1),\n",
    "        )\n",
    "        # down sample\n",
    "        self.conv6 = nn.Sequential(\n",
    "            Depthwise(int(512*alpha), int(1024*alpha), stride=2)\n",
    "        )\n",
    "        # down sample\n",
    "        self.conv7 = nn.Sequential(\n",
    "            Depthwise(int(1024*alpha), int(1024*alpha), stride=2)\n",
    "        )\n",
    "\n",
    "        self.avg_pool = nn.AdaptiveAvgPool2d((1,1))\n",
    "        self.linear = nn.Linear(int(1024*alpha), num_classes)\n",
    "\n",
    "        # weights initialization\n",
    "        if self.init_weights:\n",
    "            self._initialize_weights()\n",
    "\n",
    "    def forward(self, x):\n",
    "        x = self.conv1(x)\n",
    "        x = self.conv2(x)\n",
    "        x = self.conv3(x)\n",
    "        x = self.conv4(x)\n",
    "        x = self.conv5(x)\n",
    "        x = self.conv6(x)\n",
    "        x = self.conv7(x)\n",
    "        x = self.avg_pool(x)\n",
    "        x = x.view(x.size(0), -1)\n",
    "        x = self.linear(x)\n",
    "        return x\n",
    "\n",
    "    # weights initialization function\n",
    "    def _initialize_weights(self):\n",
    "        for m in self.modules():\n",
    "            if isinstance(m, nn.Conv2d):\n",
    "                nn.init.kaiming_normal_(m.weight, mode='fan_out', nonlinearity='relu')\n",
    "                if m.bias is not None:\n",
    "                    nn.init.constant_(m.bias, 0)\n",
    "            elif isinstance(m, nn.BatchNorm2d):\n",
    "                nn.init.constant_(m.weight, 1)\n",
    "                nn.init.constant_(m.bias, 0)\n",
    "            elif isinstance(m, nn.Linear):\n",
    "                nn.init.normal_(m.weight, 0, 0.01)\n",
    "                nn.init.constant_(m.bias, 0)\n",
    "\n",
    "def mobilenet(alpha=1, num_classes=83):\n",
    "    return MobileNet(alpha, num_classes)"
   ]
  },
  {
   "cell_type": "code",
   "execution_count": 7,
   "metadata": {
    "colab": {
     "base_uri": "https://localhost:8080/"
    },
    "id": "rhlKpIUbqkN0",
    "outputId": "4f132540-d462-4bde-d305-2969abd22ae7"
   },
   "outputs": [
    {
     "data": {
      "text/plain": [
       "<All keys matched successfully>"
      ]
     },
     "execution_count": 7,
     "metadata": {},
     "output_type": "execute_result"
    }
   ],
   "source": [
    "food_model = mobilenet(num_classes=83)\n",
    "vol_model = mobilenet(num_classes=5)\n",
    "# Load state_dict\n",
    "food_model.load_state_dict(torch.load('/content/drive/MyDrive/Types of food_SENet_weight.pt'))\n",
    "vol_model.load_state_dict(torch.load('/content/drive/MyDrive/Amount of food_SENet_weight.pt'))"
   ]
  },
  {
   "cell_type": "code",
   "execution_count": 8,
   "metadata": {
    "id": "8jd61MaYDBSZ"
   },
   "outputs": [],
   "source": [
    "food_class_names = ['갈비탕',\n",
    " '갈치조림',\n",
    " '감자탕',\n",
    " '감자튀김(스틱형)',\n",
    " '감자튀김(웨지감자)',\n",
    " '곱창전골',\n",
    " '김밥',\n",
    " '김치볶음밥',\n",
    " '깻잎장아찌',\n",
    " '꽁치조림',\n",
    " '꽃게탕',\n",
    " '녹두빈대떡',\n",
    " '달걀말이',\n",
    " '닭갈비',\n",
    " '닭볶음탕',\n",
    " '닭죽',\n",
    " '닭튀김',\n",
    " '돈가스',\n",
    " '돼지갈비',\n",
    " '두부구이',\n",
    " '두부김치',\n",
    " '떡갈비',\n",
    " '떡만둣국',\n",
    " '떡볶이',\n",
    " '라볶이',\n",
    " '류산슬덮밥',\n",
    " '매운탕',\n",
    " '문어숙회',\n",
    " '물회',\n",
    " '미소된장국',\n",
    " '병어찜',\n",
    " '부대찌개',\n",
    " '삼계탕',\n",
    " '삼선볶음밥',\n",
    " '삼선짬뽕',\n",
    " '새우볶음밥',\n",
    " '새우튀김',\n",
    " '소고기김밥',\n",
    " '소고기무국',\n",
    " '수제비',\n",
    " '순대국',\n",
    " '순대볶음',\n",
    " '순두부찌개',\n",
    " '시금치나물',\n",
    " '시래기된장국',\n",
    " '쌀밥',\n",
    " '알밥',\n",
    " '알탕',\n",
    " '양념게장',\n",
    " '어묵볶음',\n",
    " '영양돌솥밥',\n",
    " '오곡밥',\n",
    " '오므라이스(사각배달)',\n",
    " '오므라이스(접시)',\n",
    " '오징어볶음',\n",
    " '오징어젓갈',\n",
    " '육개장',\n",
    " '일식우동',\n",
    " '자장면',\n",
    " '잡탕밥',\n",
    " '전주비빔밥',\n",
    " '전주콩나물국밥',\n",
    " '제육덮밥',\n",
    " '쫄면',\n",
    " '참치마요삼각김밥',\n",
    " '채소튀김',\n",
    " '총각김치',\n",
    " '치킨윙',\n",
    " '카레라이스',\n",
    " '코다리조림',\n",
    " '콘스프',\n",
    " '콩국수',\n",
    " '콩밥',\n",
    " '크림소스스파게티',\n",
    " '토마토소스스파게티',\n",
    " '파전',\n",
    " '해물찜',\n",
    " '햄버거스테이크',\n",
    " '호박죽',\n",
    " '회냉면',\n",
    " '회덮밥',\n",
    " '훈제연어',\n",
    " '훈제오리']\n",
    "\n",
    "vol_class_names = [\"Q1\",\"Q2\", \"Q3\", \"Q4\",\"Q5\"]"
   ]
  },
  {
   "cell_type": "code",
   "execution_count": 9,
   "metadata": {
    "colab": {
     "base_uri": "https://localhost:8080/"
    },
    "id": "4dl70xmV2D1F",
    "outputId": "a791a2fc-3234-4ce3-f2c2-dc728898a047"
   },
   "outputs": [
    {
     "name": "stdout",
     "output_type": "stream",
     "text": [
      "['쌀밥' '갈비탕' '갈치조림']\n",
      "['Q3' 'Q5' 'Q1']\n"
     ]
    }
   ],
   "source": [
    "# Create the preprocessing transformation here\n",
    "val_transform = transforms.Compose([transforms.Resize((224,224)),\n",
    "                                    transforms.ToTensor(),\n",
    "                                    transforms.Normalize([0.485, 0.456, 0.406], [0.229, 0.224, 0.225])])\n",
    "\n",
    "\n",
    "food_pred = []\n",
    "vol_pred = []\n",
    "\n",
    "today_food = [\"/content/drive/MyDrive/DCD_2022/음식 이미지 및 영양정보 텍스트/val_cropped/쌀밥/side_밥류_원형배달_쌀밥_Q3_00033.JPG\", \"/content/drive/MyDrive/DCD_2022/음식 이미지 및 영양정보 텍스트/val_cropped/갈비탕/side_건더기국류_뚝배기_갈비탕_Q5_00028.JPG\", \"/content/drive/MyDrive/DCD_2022/음식 이미지 및 영양정보 텍스트/val_cropped/갈치조림/side_생선조림_냄비_갈치조림_Q1 00001.JPG\"]\n",
    "\n",
    "# Set model to eval\n",
    "food_model.eval()\n",
    "vol_model.eval()\n",
    "\n",
    "for i in today_food:\n",
    "  img = Image.open(i) \n",
    "  # Transform\n",
    "  input = val_transform(img)\n",
    "\n",
    "  # unsqueeze batch dimension, in case you are dealing with a single image\n",
    "  input = input.unsqueeze(0)\n",
    "\n",
    "  # Get prediction\n",
    "  food_output = food_model(input)\n",
    "  food_output = (torch.max(torch.exp(food_output), 1)[1]).data.cpu().numpy()\n",
    "  vol_output = vol_model(input)\n",
    "  vol_output = (torch.max(torch.exp(vol_output), 1)[1]).data.cpu().numpy()\n",
    "\n",
    "  food_pred.extend(food_output) # Save Prediction\n",
    "  vol_pred.extend(vol_output)\n",
    "\n",
    "  food_name = np.array(food_class_names)[food_pred]\n",
    "  vol_name = np.array(vol_class_names)[vol_pred]\n",
    "  \n",
    "print(food_name)\n",
    "print(vol_name)"
   ]
  },
  {
   "cell_type": "code",
   "execution_count": 11,
   "metadata": {
    "colab": {
     "base_uri": "https://localhost:8080/"
    },
    "id": "OvgzsJOybuLf",
    "outputId": "19b6e007-fc9e-4a2a-b9dc-b00b1fff9cbc"
   },
   "outputs": [
    {
     "name": "stdout",
     "output_type": "stream",
     "text": [
      "음식1 : 쌀밥 / 중량(g) : 157.5 / 에너지(kcal) : 251.1 / 탄수화물(g) : 55.28 / 당류(g) : 0.0 / 지방(g) : 0.34 / 단백질(g) : 4.32 / 칼슘(mg) : 2.7 / 인(mg) : 94.5 \n",
      "나트륨(mg) : 44.55 / 칼륨(mg) : 110.02 / 마그네슘(mg) : 0.0 / 철(mg) : 0.27 / 아연(mg) : 1.01 / 콜레스테롤(mg) 0.0 / 트랜스지방(g) : 0.0\n",
      "\n",
      "음식2 : 갈비탕 / 중량(g) : 750.0 / 에너지(kcal) : 300.5 / 탄수화물(g) : 10.26 / 당류(g) : 0.0 / 지방(g) : 17.92 / 단백질(g) : 23.34 / 칼슘(mg) : 69.14 / 인(mg) : 255.71 \n",
      "나트륨(mg) : 2110.54 / 칼륨(mg) : 696.14 / 마그네슘(mg) : 0.0 / 철(mg) : 3.3 / 아연(mg) : 5.08 / 콜레스테롤(mg) 237.3 / 트랜스지방(g) : 0.0\n",
      "\n",
      "음식3 : 갈치조림 / 중량(g) : 25.0 / 에너지(kcal) : 24.85 / 탄수화물(g) : 1.37 / 당류(g) : 0.12 / 지방(g) : 0.98 / 단백질(g) : 2.67 / 칼슘(mg) : 9.67 / 인(mg) : 32.44 \n",
      "나트륨(mg) : 115.96 / 칼륨(mg) : 75.75 / 마그네슘(mg) : 1.54 / 철(mg) : 0.29 / 아연(mg) : 0.15 / 콜레스테롤(mg) 10.5 / 트랜스지방(g) : 0.0\n",
      "\n",
      "총 영양성분 / 중량(g) : 932.5 / 에너지(kcal) : 576.45 / 탄수화물(g) : 66.91 / 당류(g) : 0.12 / 지방(g) : 19.24 / 단백질(g) : 30.33 / 칼슘(mg) : 81.51 / 인(mg) : 382.65 \n",
      "나트륨(mg) : 2271.05 / 칼륨(mg) : 881.91 / 마그네슘(mg) : 1.54 / 철(mg) : 3.86 / 아연(mg) : 6.24 / 콜레스테롤(mg) 247.8 / 트랜스지방(g) : 0.0\n",
      "\n"
     ]
    }
   ],
   "source": [
    "lst = []\n",
    "weight = []\n",
    "kal = []\n",
    "tan = []\n",
    "dang = []\n",
    "gi = []\n",
    "dan = []\n",
    "cal = []\n",
    "inn = []\n",
    "na = []\n",
    "kalum = []\n",
    "mg = []\n",
    "F = []\n",
    "A = []\n",
    "col = []\n",
    "tran = []\n",
    "total = []\n",
    "\n",
    "for i in range(len(today_food)):\n",
    "  if len(df.loc[(df['음 식 명'] == food_name[i])]) == 1:\n",
    "    a = df.index[(df['음 식 명']) == food_name[i]].tolist()\n",
    "    lst.append(a[0])\n",
    "    if vol_name[i] == \"Q1\":\n",
    "      weight.append(round(df.at[lst[i], '중량(g)'] * 0.25,2))\n",
    "      kal.append(round(df.at[lst[i], '에너지(kcal)'] * 0.25,2))\n",
    "      tan.append(round(df.at[lst[i], '탄수화물(g)'] * 0.25,2))\n",
    "      dang.append(round(df.at[lst[i], '당류(g)'] * 0.25,2))\n",
    "      gi.append(round(df.at[lst[i], '지방(g)'] * 0.25,2))\n",
    "      dan.append(round(df.at[lst[i], '단백질(g)'] * 0.25,2))\n",
    "      cal.append(round(df.at[lst[i], '칼슘(mg)'] * 0.25,2))\n",
    "      inn.append(round(df.at[lst[i], '인(mg)'] * 0.25,2))\n",
    "      na.append(round(df.at[lst[i], '나트륨(mg)'] * 0.25,2))\n",
    "      kalum.append(round(df.at[lst[i], '칼륨(mg)'] * 0.25,2))\n",
    "      mg.append(round(df.at[lst[i], '마그네슘(mg)'] * 0.25,2))\n",
    "      F.append(round(df.at[lst[i], '철(mg)'] * 0.25,2))\n",
    "      A.append(round(df.at[lst[i], '아연(mg)'] * 0.25,2))\n",
    "      col.append(round(df.at[lst[i], '콜레스테롤(mg)'] * 0.25,2))\n",
    "      tran.append(round(df.at[lst[i], '트랜스지방(g)'] * 0.25,2))\n",
    "    elif vol_name[i] == \"Q2\":\n",
    "      weight.append(round(df.at[lst[i], '중량(g)'] * 0.5,2))\n",
    "      kal.append(round(df.at[lst[i], '에너지(kcal)'] * 0.5,2))\n",
    "      tan.append(round(df.at[lst[i], '탄수화물(g)'] * 0.5,2))\n",
    "      dang.append(round(df.at[lst[i], '당류(g)'] * 0.5,2))\n",
    "      gi.append(round(df.at[lst[i], '지방(g)'] * 0.5,2))\n",
    "      dan.append(round(df.at[lst[i], '단백질(g)'] * 0.5,2))\n",
    "      cal.append(round(df.at[lst[i], '칼슘(mg)'] * 0.5,2))\n",
    "      inn.append(round(df.at[lst[i], '인(mg)'] * 0.5,2))\n",
    "      na.append(round(df.at[lst[i], '나트륨(mg)'] * 0.5,2))\n",
    "      kalum.append(round(df.at[lst[i], '칼륨(mg)'] * 0.5,2))\n",
    "      mg.append(round(df.at[lst[i], '마그네슘(mg)'] * 0.5,2))\n",
    "      F.append(round(df.at[lst[i], '철(mg)'] * 0.5,2))\n",
    "      A.append(round(df.at[lst[i], '아연(mg)'] * 0.5,2))\n",
    "      col.append(round(df.at[lst[i], '콜레스테롤(mg)'] * 0.5,2))\n",
    "      tran.append(round(df.at[lst[i], '트랜스지방(g)'] * 0.5,2))\n",
    "    elif vol_name[i] == \"Q3\":\n",
    "      weight.append(round(df.at[lst[i], '중량(g)'] * 0.75,2))\n",
    "      kal.append(round(df.at[lst[i], '에너지(kcal)'] * 0.75,2))\n",
    "      tan.append(round(df.at[lst[i], '탄수화물(g)'] * 0.75,2))\n",
    "      dang.append(round(df.at[lst[i], '당류(g)'] * 0.75,2))\n",
    "      gi.append(round(df.at[lst[i], '지방(g)'] * 0.75,2))\n",
    "      dan.append(round(df.at[lst[i], '단백질(g)'] * 0.75,2))\n",
    "      cal.append(round(df.at[lst[i], '칼슘(mg)'] * 0.75,2))\n",
    "      inn.append(round(df.at[lst[i], '인(mg)'] * 0.75,2))\n",
    "      na.append(round(df.at[lst[i], '나트륨(mg)'] * 0.75,2))\n",
    "      kalum.append(round(df.at[lst[i], '칼륨(mg)'] * 0.75,2))\n",
    "      mg.append(round(df.at[lst[i], '마그네슘(mg)'] * 0.75,2))\n",
    "      F.append(round(df.at[lst[i], '철(mg)'] * 0.75,2))\n",
    "      A.append(round(df.at[lst[i], '아연(mg)'] * 0.75,2))\n",
    "      col.append(round(df.at[lst[i], '콜레스테롤(mg)'] * 0.75,2))\n",
    "      tran.append(round(df.at[lst[i], '트랜스지방(g)'] * 0.75,2))\n",
    "    elif vol_name[i] == \"Q4\":\n",
    "      weight.append(round(df.at[lst[i], '중량(g)'] * 1,2))\n",
    "      kal.append(round(df.at[lst[i], '에너지(kcal)'] * 1,2))\n",
    "      tan.append(round(df.at[lst[i], '탄수화물(g)'] * 1,2))\n",
    "      dang.append(round(df.at[lst[i], '당류(g)'] * 1,2))\n",
    "      gi.append(round(df.at[lst[i], '지방(g)'] * 1,2))\n",
    "      dan.append(round(df.at[lst[i], '단백질(g)'] * 1,2))\n",
    "      cal.append(round(df.at[lst[i], '칼슘(mg)'] * 1,2))\n",
    "      inn.append(round(df.at[lst[i], '인(mg)'] * 1,2))\n",
    "      na.append(round(df.at[lst[i], '나트륨(mg)'] * 1,2))\n",
    "      kalum.append(round(df.at[lst[i], '칼륨(mg)'] * 1,2))\n",
    "      mg.append(round(df.at[lst[i], '마그네슘(mg)'] * 1,2))\n",
    "      F.append(round(df.at[lst[i], '철(mg)'] * 1,2))\n",
    "      A.append(round(df.at[lst[i], '아연(mg)'] * 1,2))\n",
    "      col.append(round(df.at[lst[i], '콜레스테롤(mg)'] * 1,2))\n",
    "      tran.append(round(df.at[lst[i], '트랜스지방(g)'] * 1,2))\n",
    "    else:\n",
    "      weight.append(round(df.at[lst[i], '중량(g)'] * 1.25,2))\n",
    "      kal.append(round(df.at[lst[i], '에너지(kcal)'] * 1.25,2))\n",
    "      tan.append(round(df.at[lst[i], '탄수화물(g)'] * 1.25,2))\n",
    "      dang.append(round(df.at[lst[i], '당류(g)'] * 1.25,2))\n",
    "      gi.append(round(df.at[lst[i], '지방(g)'] * 1.25,2))\n",
    "      dan.append(round(df.at[lst[i], '단백질(g)'] * 1.25,2))\n",
    "      cal.append(round(df.at[lst[i], '칼슘(mg)'] * 1.25,2))\n",
    "      inn.append(round(df.at[lst[i], '인(mg)'] * 1.25,2))\n",
    "      na.append(round(df.at[lst[i], '나트륨(mg)'] * 1.25,2))\n",
    "      kalum.append(round(df.at[lst[i], '칼륨(mg)'] * 1.25,2))\n",
    "      mg.append(round(df.at[lst[i], '마그네슘(mg)'] * 1.25,2))\n",
    "      F.append(round(df.at[lst[i], '철(mg)'] * 1.25,2))\n",
    "      A.append(round(df.at[lst[i], '아연(mg)'] * 1.25,2))\n",
    "      col.append(round(df.at[lst[i], '콜레스테롤(mg)'] * 1.25,2))\n",
    "      tran.append(round(df.at[lst[i], '트랜스지방(g)'] * 1.25,2))\n",
    "    print(f\"음식{i+1} : {food_name[i]} / 중량(g) : {weight[i]} / 에너지(kcal) : {kal[i]} / 탄수화물(g) : {tan[i]} / 당류(g) : {dang[i]} / 지방(g) : {gi[i]} / 단백질(g) : {dan[i]} / 칼슘(mg) : {cal[i]} / 인(mg) : {inn[i]} \\n나트륨(mg) : {na[i]} / 칼륨(mg) : {kalum[i]} / 마그네슘(mg) : {mg[i]} / 철(mg) : {F[i]} / 아연(mg) : {A[i]} / 콜레스테롤(mg) {col[i]} / 트랜스지방(g) : {tran[i]}\\n\" )\n",
    "print(f\"총 영양성분 / 중량(g) : {round(sum(weight),2)} / 에너지(kcal) : {round(sum(kal),2)} / 탄수화물(g) : {round(sum(tan),2)} / 당류(g) : {round(sum(dang),2)} / 지방(g) : {round(sum(gi),2)} / 단백질(g) : {round(sum(dan),2)} / 칼슘(mg) : {round(sum(cal),2)} / 인(mg) : {round(sum(inn),2)} \\n나트륨(mg) : {round(sum(na),2)} / 칼륨(mg) : {round(sum(kalum),2)} / 마그네슘(mg) : {round(sum(mg),2)} / 철(mg) : {round(sum(F),2)} / 아연(mg) : {round(sum(A),2)} / 콜레스테롤(mg) {round(sum(col),2)} / 트랜스지방(g) : {round(sum(tran),2)}\\n\" )"
   ]
  },
  {
   "cell_type": "code",
   "execution_count": 14,
   "metadata": {
    "colab": {
     "base_uri": "https://localhost:8080/",
     "height": 73
    },
    "id": "fKUYQ56mbs2L",
    "outputId": "0ce5a5f8-d8bf-4e90-c557-322eb5552394"
   },
   "outputs": [
    {
     "data": {
      "application/vnd.google.colaboratory.intrinsic+json": {
       "type": "string"
      },
      "text/plain": [
       "'\\n필요량 / 권장 / 상한\\n20대 남자 \\n에너지 :  2600 /- /- Kcal, 탄수화물 : 100/ 130/- g, 단백질 : 50/ 65/-g\\n지방 : -/-/51\\n칼슘 : 650 / 800 / 2500 mg, 인 : 580/700/3500mg, 마그네슘 : 300 / 360 / -\\n나트륨 : -/-/1500mg, 칼륨 : -/-/3500, 철 : 8 / 10 / 45mg, 아연 : 9 / 10 / 35mg\\n\\n20대 여자\\n에너지 :  2000 /- /- Kcal, 탄수화물 : 100/ 130/- g, 단백질 : 45/ 55/-g\\n칼슘 : 550 / 700 / 2500 mg, 인 : 580/700/3500mg, 마그네슘 : 230 / 280 / -\\n나트륨 : -/-/1500mg, 칼륨 : -/-/3500, 철 : 11 / 14 / 45, 아연 : 7 / 8 / 35\\n\\n출처 보건복지부 2020년 발표자료\\n'"
      ]
     },
     "execution_count": 14,
     "metadata": {},
     "output_type": "execute_result"
    }
   ],
   "source": [
    "  \"\"\"\n",
    "  필요량 / 권장 / 상한\n",
    "  20대 남자 \n",
    "  에너지 :  2600 /- /- Kcal, 탄수화물 : 100/ 130/- g, 단백질 : 50/ 65/-g\n",
    "  지방 : -/-/51\n",
    "  칼슘 : 650 / 800 / 2500 mg, 인 : 580/700/3500mg, 마그네슘 : 300 / 360 / -\n",
    "  나트륨 : -/-/1500mg, 칼륨 : -/-/3500, 철 : 8 / 10 / 45mg, 아연 : 9 / 10 / 35mg\n",
    "\n",
    "  20대 여자\n",
    "  에너지 :  2000 /- /- Kcal, 탄수화물 : 100/ 130/- g, 단백질 : 45/ 55/-g\n",
    "  칼슘 : 550 / 700 / 2500 mg, 인 : 580/700/3500mg, 마그네슘 : 230 / 280 / -\n",
    "  나트륨 : -/-/1500mg, 칼륨 : -/-/3500, 철 : 11 / 14 / 45, 아연 : 7 / 8 / 35\n",
    "\n",
    "  출처 보건복지부 2020년 발표자료\n",
    "  \"\"\""
   ]
  },
  {
   "cell_type": "code",
   "execution_count": null,
   "metadata": {
    "id": "p3ITLpE8tQ8z"
   },
   "outputs": [],
   "source": []
  }
 ],
 "metadata": {
  "accelerator": "GPU",
  "colab": {
   "provenance": []
  },
  "gpuClass": "standard",
  "kernelspec": {
   "display_name": "Python 3 (ipykernel)",
   "language": "python",
   "name": "python3"
  },
  "language_info": {
   "codemirror_mode": {
    "name": "ipython",
    "version": 3
   },
   "file_extension": ".py",
   "mimetype": "text/x-python",
   "name": "python",
   "nbconvert_exporter": "python",
   "pygments_lexer": "ipython3",
   "version": "3.9.12"
  }
 },
 "nbformat": 4,
 "nbformat_minor": 1
}
