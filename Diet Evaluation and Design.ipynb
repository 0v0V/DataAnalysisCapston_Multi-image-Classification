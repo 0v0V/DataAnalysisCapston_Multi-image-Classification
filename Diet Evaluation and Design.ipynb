{
  "cells": [
    {
      "cell_type": "code",
      "execution_count": 1,
      "metadata": {
        "id": "MZhrFvwYmq6Y"
      },
      "outputs": [],
      "source": [
        "import numpy as np\n",
        "import sys\n",
        "import os\n",
        "import random \n",
        "import pandas as pd\n",
        "import torch\n",
        "from torch import nn, cuda, optim\n",
        "from torchvision import models,transforms,datasets\n",
        "from torch.utils.data import DataLoader,random_split, dataset\n",
        "import seaborn as sns\n",
        "import torch.nn.functional as F\n",
        "import torch.nn as nn\n",
        "from math import ceil\n",
        "import shutil\n",
        "import time\n",
        "import copy\n",
        "from sklearn.metrics import confusion_matrix\n",
        "import seaborn as sn\n",
        "from sklearn.metrics import classification_report\n",
        "import matplotlib.pyplot as plt\n",
        "from PIL import Image\n",
        "import seaborn as sns"
      ]
    },
    {
      "cell_type": "code",
      "execution_count": 2,
      "metadata": {
        "colab": {
          "base_uri": "https://localhost:8080/"
        },
        "id": "R0FBnMxdm5Ve",
        "outputId": "d33647ee-e698-4d10-ff05-dd8e3cbb1dac"
      },
      "outputs": [
        {
          "output_type": "stream",
          "name": "stdout",
          "text": [
            "Mounted at /content/drive\n"
          ]
        }
      ],
      "source": [
        "from google.colab import drive\n",
        "drive.mount('/content/drive')"
      ]
    },
    {
      "cell_type": "code",
      "execution_count": 3,
      "metadata": {
        "id": "Mj35ER0do6TC"
      },
      "outputs": [],
      "source": [
        "df = pd.read_excel(\"/content/drive/MyDrive/DCD_2022/음식분류 AI 데이터 영양DB.xlsx\", engine = \"openpyxl\")\n",
        "df = df.replace('-', 0)"
      ]
    },
    {
      "cell_type": "code",
      "execution_count": 4,
      "metadata": {
        "id": "6kpVt-cMjcLa"
      },
      "outputs": [],
      "source": [
        "food_class_names = ['갈비탕', '갈치조림', '감자탕', '감자튀김(스틱형)', '감자튀김(웨지감자)', '곱창전골',\n",
        " '김밥', '김치볶음밥', '깻잎장아찌', '꽁치조림', '꽃게탕', '녹두빈대떡', '달걀말이', '닭갈비', '닭볶음탕',\n",
        " '닭죽', '닭튀김', '돈가스', '돼지갈비', '두부구이', '두부김치', '떡갈비', '떡만둣국', '떡볶이', '라볶이',\n",
        " '류산슬덮밥', '매운탕', '문어숙회', '물회', '미소된장국', '병어찜', '부대찌개', '삼계탕', '삼선볶음밥',\n",
        " '삼선짬뽕', '새우볶음밥', '새우튀김', '소고기김밥', '소고기무국', '수제비', '순대국', '순대볶음', '순두부찌개',\n",
        " '시금치나물', '시래기된장국', '쌀밥', '알밥', '알탕', '양념게장', '어묵볶음', '영양돌솥밥', '오곡밥',\n",
        " '오므라이스(사각배달)', '오므라이스(접시)', '오징어볶음', '오징어젓갈', '육개장', '일식우동', '자장면', '잡탕밥',\n",
        " '전주비빔밥', '전주콩나물국밥', '제육덮밥', '쫄면', '참치마요삼각김밥', '채소튀김', '총각김치', '치킨윙',\n",
        " '카레라이스', '코다리조림', '콘스프', '콩국수', '콩밥', '크림소스스파게티', '토마토소스스파게티', '파전',\n",
        " '해물찜', '햄버거스테이크', '호박죽', '회냉면', '회덮밥', '훈제연어', '훈제오리']\n",
        "vol_class_names = [\"Q1\", \"Q2\", \"Q3\", \"Q4\", \"Q5\"]"
      ]
    },
    {
      "cell_type": "code",
      "execution_count": 5,
      "metadata": {
        "id": "SZhiCu0J0YrB"
      },
      "outputs": [],
      "source": [
        "class SEBlock(nn.Module):\n",
        "    def __init__(self, in_channels, r=16):\n",
        "        super().__init__()\n",
        "        self.squeeze = nn.AdaptiveAvgPool2d((1,1))\n",
        "        self.excitation = nn.Sequential(\n",
        "            nn.Linear(in_channels, in_channels // r),\n",
        "            nn.ReLU(),\n",
        "            nn.Linear(in_channels // r, in_channels),\n",
        "            nn.Sigmoid()\n",
        "        )\n",
        "\n",
        "    def forward(self, x):\n",
        "        x = self.squeeze(x)\n",
        "        x = x.view(x.size(0), -1) \n",
        "        x = self.excitation(x)\n",
        "        x = x.view(x.size(0), x.size(1), 1, 1)\n",
        "        return x\n",
        "\n",
        "# Depthwise Separable Convolution\n",
        "class Depthwise(nn.Module):\n",
        "    def __init__(self, in_channels, out_channels, stride=1):\n",
        "        super().__init__()\n",
        "\n",
        "        self.depthwise = nn.Sequential(\n",
        "            nn.Conv2d(in_channels, in_channels, 3, stride=stride, padding=1, groups=in_channels, bias=False),\n",
        "            nn.BatchNorm2d(in_channels),\n",
        "            nn.ReLU6(),\n",
        "        )\n",
        "\n",
        "        self.pointwise = nn.Sequential(\n",
        "            nn.Conv2d(in_channels, out_channels, 1, stride=1, padding=0, bias=False),\n",
        "            nn.BatchNorm2d(out_channels),\n",
        "            nn.ReLU6(),\n",
        "        )\n",
        "\n",
        "        self.seblock = SEBlock(out_channels)\n",
        "\n",
        "    def forward(self, x):\n",
        "        x = self.depthwise(x)\n",
        "        x = self.pointwise(x)\n",
        "        x = self.seblock(x) * x\n",
        "        return x\n",
        "\n",
        "\n",
        "# BasicConv2d\n",
        "class BasicConv2d(nn.Module):\n",
        "    def __init__(self, in_channels, out_channels, kernel_size, **kwargs):\n",
        "        super().__init__()\n",
        "\n",
        "        self.conv = nn.Sequential(\n",
        "            nn.Conv2d(in_channels, out_channels, kernel_size=kernel_size, **kwargs),\n",
        "            nn.BatchNorm2d(out_channels),\n",
        "            nn.ReLU6()\n",
        "        )\n",
        "\n",
        "    def forward(self, x):\n",
        "        x = self.conv(x)\n",
        "        return x\n",
        "\n",
        "\n",
        "# MobileNetV1\n",
        "class MobileNet(nn.Module):\n",
        "    def __init__(self, width_multiplier, num_classes=83, init_weights=True):\n",
        "        super().__init__()\n",
        "        self.init_weights=init_weights\n",
        "        alpha = width_multiplier\n",
        "\n",
        "        self.conv1 = BasicConv2d(3, int(32*alpha), 3, stride=2, padding=1)\n",
        "        self.conv2 = Depthwise(int(32*alpha), int(64*alpha), stride=1)\n",
        "        # down sample\n",
        "        self.conv3 = nn.Sequential(\n",
        "            Depthwise(int(64*alpha), int(128*alpha), stride=2),\n",
        "            Depthwise(int(128*alpha), int(128*alpha), stride=1)\n",
        "        )\n",
        "        # down sample\n",
        "        self.conv4 = nn.Sequential(\n",
        "            Depthwise(int(128*alpha), int(256*alpha), stride=2),\n",
        "            Depthwise(int(256*alpha), int(256*alpha), stride=1)\n",
        "        )\n",
        "        # down sample\n",
        "        self.conv5 = nn.Sequential(\n",
        "            Depthwise(int(256*alpha), int(512*alpha), stride=2),\n",
        "            Depthwise(int(512*alpha), int(512*alpha), stride=1),\n",
        "            Depthwise(int(512*alpha), int(512*alpha), stride=1),\n",
        "            Depthwise(int(512*alpha), int(512*alpha), stride=1),\n",
        "            Depthwise(int(512*alpha), int(512*alpha), stride=1),\n",
        "            Depthwise(int(512*alpha), int(512*alpha), stride=1),\n",
        "        )\n",
        "        # down sample\n",
        "        self.conv6 = nn.Sequential(\n",
        "            Depthwise(int(512*alpha), int(1024*alpha), stride=2)\n",
        "        )\n",
        "        # down sample\n",
        "        self.conv7 = nn.Sequential(\n",
        "            Depthwise(int(1024*alpha), int(1024*alpha), stride=2)\n",
        "        )\n",
        "\n",
        "        self.avg_pool = nn.AdaptiveAvgPool2d((1,1))\n",
        "        self.linear = nn.Linear(int(1024*alpha), num_classes)\n",
        "\n",
        "        # weights initialization\n",
        "        if self.init_weights:\n",
        "            self._initialize_weights()\n",
        "\n",
        "    def forward(self, x):\n",
        "        x = self.conv1(x)\n",
        "        x = self.conv2(x)\n",
        "        x = self.conv3(x)\n",
        "        x = self.conv4(x)\n",
        "        x = self.conv5(x)\n",
        "        x = self.conv6(x)\n",
        "        x = self.conv7(x)\n",
        "        x = self.avg_pool(x)\n",
        "        x = x.view(x.size(0), -1)\n",
        "        x = self.linear(x)\n",
        "        return x\n",
        "\n",
        "    # weights initialization function\n",
        "    def _initialize_weights(self):\n",
        "        for m in self.modules():\n",
        "            if isinstance(m, nn.Conv2d):\n",
        "                nn.init.kaiming_normal_(m.weight, mode='fan_out', nonlinearity='relu')\n",
        "                if m.bias is not None:\n",
        "                    nn.init.constant_(m.bias, 0)\n",
        "            elif isinstance(m, nn.BatchNorm2d):\n",
        "                nn.init.constant_(m.weight, 1)\n",
        "                nn.init.constant_(m.bias, 0)\n",
        "            elif isinstance(m, nn.Linear):\n",
        "                nn.init.normal_(m.weight, 0, 0.01)\n",
        "                nn.init.constant_(m.bias, 0)\n",
        "\n",
        "def mobilenet(alpha=1, num_classes=83):\n",
        "    return MobileNet(alpha, num_classes)"
      ]
    },
    {
      "cell_type": "code",
      "execution_count": 6,
      "metadata": {
        "colab": {
          "base_uri": "https://localhost:8080/"
        },
        "id": "rhlKpIUbqkN0",
        "outputId": "d9bff532-f981-4227-c169-64d02ebd6ba1"
      },
      "outputs": [
        {
          "output_type": "execute_result",
          "data": {
            "text/plain": [
              "<All keys matched successfully>"
            ]
          },
          "metadata": {},
          "execution_count": 6
        }
      ],
      "source": [
        "device = torch.device('cuda:0' if cuda.is_available() else 'cpu')\n",
        "food_model = mobilenet(num_classes=83).to(device)\n",
        "vol_model = mobilenet(num_classes=5).to(device)\n",
        "# Load state_dict\n",
        "food_model.load_state_dict(torch.load('/content/drive/MyDrive/DCD_2022/FINAL/food_weights0.001.pt'))\n",
        "vol_model.load_state_dict(torch.load('/content/drive/MyDrive/DCD_2022/FINAL/vol_weights0.0002_1130_2.pt'))"
      ]
    },
    {
      "cell_type": "code",
      "execution_count": 7,
      "metadata": {
        "colab": {
          "base_uri": "https://localhost:8080/"
        },
        "id": "4dl70xmV2D1F",
        "outputId": "b9e03767-880b-4f2e-9ff4-32161740dbe9"
      },
      "outputs": [
        {
          "output_type": "stream",
          "name": "stdout",
          "text": [
            "['쌀밥' '갈비탕' '갈치조림']\n",
            "['Q3' 'Q5' 'Q1']\n"
          ]
        }
      ],
      "source": [
        "# Create the preprocessing transformation here\n",
        "val_transform = transforms.Compose([transforms.Resize((224,224)),\n",
        "                                    transforms.ToTensor(),\n",
        "                                    transforms.Normalize([0.485, 0.456, 0.406], [0.229, 0.224, 0.225])])\n",
        "\n",
        "\n",
        "food_pred = []\n",
        "vol_pred = []\n",
        "\n",
        "today_food = [\"/content/drive/MyDrive/DCD_2022/음식 이미지 및 영양정보 텍스트/val_cropped/쌀밥/side_밥류_원형배달_쌀밥_Q3_00033.JPG\", \n",
        "              \"/content/drive/MyDrive/DCD_2022/음식 이미지 및 영양정보 텍스트/val_cropped/갈비탕/side_건더기국류_뚝배기_갈비탕_Q5_00028.JPG\", \n",
        "              \"/content/drive/MyDrive/DCD_2022/음식 이미지 및 영양정보 텍스트/val_cropped/갈치조림/side_생선조림_냄비_갈치조림_Q1 00001.JPG\"]\n",
        "\n",
        "# Set model to eval\n",
        "food_model.eval()\n",
        "vol_model.eval()\n",
        "\n",
        "for i in today_food:\n",
        "  img = Image.open(i) \n",
        "  # Transform\n",
        "  input_img = val_transform(img).to(device)\n",
        "\n",
        "  # unsqueeze batch dimension, in case you are dealing with a single image\n",
        "  input_img = input_img.unsqueeze(0)\n",
        "  # Get prediction\n",
        "  food_output = food_model(input_img)\n",
        "  food_output = (torch.max(torch.exp(food_output), 1)[1]).data.cpu().numpy()\n",
        "  vol_output = vol_model(input_img)\n",
        "  vol_output = (torch.max(torch.exp(vol_output), 1)[1]).data.cpu().numpy()\n",
        "\n",
        "  food_pred.extend(food_output) # Save Prediction\n",
        "  vol_pred.extend(vol_output)\n",
        "\n",
        "  food_name = np.array(food_class_names)[food_pred]\n",
        "  vol_name = np.array(vol_class_names)[vol_pred]\n",
        "  \n",
        "print(food_name)\n",
        "print(vol_name)"
      ]
    },
    {
      "cell_type": "code",
      "execution_count": 8,
      "metadata": {
        "id": "jOCUAAI3pP5E"
      },
      "outputs": [],
      "source": [
        "food = [df.loc[(df['음 식 명'] == i)].values for i in food_name if i in food_class_names]\n",
        "weight = [0.25, 0.5, 0.75, 1.0 ,1.25]"
      ]
    },
    {
      "cell_type": "code",
      "execution_count": 9,
      "metadata": {
        "id": "8otti88or7AI"
      },
      "outputs": [],
      "source": [
        "nutritive_components= []\n",
        "for i in range(len(food)):\n",
        "  quantity = vol_class_names.index(vol_name[i])\n",
        "  food_value = food[i][0][1:] * weight[quantity]\n",
        "  for j in range(len(food_value)):\n",
        "    food_value[j] = round(food_value[j], 2)\n",
        "  nutritive_components.append(food_value)\n",
        "total_sum = nutritive_components[0][:]\n",
        "for i in range(1, len(nutritive_components)):\n",
        "  total_sum =  total_sum + nutritive_components[i]\n",
        "for i in range(len(total_sum)):\n",
        "  total_sum[i] = round(total_sum[i], 2)\n",
        "nutritive_components.append(total_sum)"
      ]
    },
    {
      "cell_type": "code",
      "execution_count": 11,
      "metadata": {
        "colab": {
          "base_uri": "https://localhost:8080/"
        },
        "id": "EGLwuj3x0gWc",
        "outputId": "89b9372d-c60e-4579-96a9-65ee4d55bd4d"
      },
      "outputs": [
        {
          "output_type": "stream",
          "name": "stdout",
          "text": [
            "당신의 성별은 무엇입니까? 남자 : 1 / 여자 : 2  2\n",
            "\n",
            "음식0 : 쌀밥 / 중량(g) : 157.5 / 에너지(kcal) : 251.1 / 탄수화물(g) : 55.28 / 당류(g) : 0.0 / 지방(g) : 0.34 / 단백질(g) : 4.32 / 칼슘(mg) : 2.7 / 인(mg) : 94.5\n",
            " / 나트륨(mg) : 44.55 / 칼륨(mg) : 110.02 / 마그네슘(mg) : 0.0 / 철(mg) : 0.27 / 아연(mg) : 1.01 / 콜레스테롤(mg) : 0.0 / 트랜스지방(g) : 0.0\n",
            "음식1 : 갈비탕 / 중량(g) : 750.0 / 에너지(kcal) : 300.5 / 탄수화물(g) : 10.26 / 당류(g) : 0.0 / 지방(g) : 17.92 / 단백질(g) : 23.34 / 칼슘(mg) : 69.14 / 인(mg) : 255.71\n",
            " / 나트륨(mg) : 2110.54 / 칼륨(mg) : 696.14 / 마그네슘(mg) : 0.0 / 철(mg) : 3.3 / 아연(mg) : 5.08 / 콜레스테롤(mg) : 237.3 / 트랜스지방(g) : 0.0\n",
            "음식2 : 갈치조림 / 중량(g) : 25.0 / 에너지(kcal) : 24.85 / 탄수화물(g) : 1.37 / 당류(g) : 0.12 / 지방(g) : 0.98 / 단백질(g) : 2.67 / 칼슘(mg) : 9.67 / 인(mg) : 32.44\n",
            " / 나트륨(mg) : 115.95 / 칼륨(mg) : 75.75 / 마그네슘(mg) : 1.54 / 철(mg) : 0.29 / 아연(mg) : 0.15 / 콜레스테롤(mg) : 10.5 / 트랜스지방(g) : 0.0\n",
            "총 영양성분 :  / 중량(g) : 932.5 / 에너지(kcal) : 576.45 / 탄수화물(g) : 66.91 / 당류(g) : 0.12 / 지방(g) : 19.24 / 단백질(g) : 30.33 / 칼슘(mg) : 81.51 / 인(mg) : 382.65\n",
            " / 나트륨(mg) : 2271.04 / 칼륨(mg) : 881.91 / 마그네슘(mg) : 1.54 / 철(mg) : 3.86 / 아연(mg) : 6.24 / 콜레스테롤(mg) : 247.8 / 트랜스지방(g) : 0.0\n",
            "\n",
            "섭취한 칼로리 : 576.45Kcal / 권장 칼로리 섭취 : 866.67Kcal\n",
            "이번 식사는 칼로리가 적습니다. 다른 식사에서 더 많은 칼로리를 보충하세요.\n",
            "\n",
            "섭취한 탄수화물 : 66.91g / 권장 탄수화물 섭취 : 108.00g\n",
            "이번 식사는 탄수화물가 적습니다. 다른 식사에서 더 많은 탄수화물을 보충하세요.\n",
            "\n",
            "섭취한 단백질 : 30.33g / 권장 단백질 섭취 : 18.33g\n",
            "이번 식사는 단백질가 많습니다. 다른 식사에서 단백질을 적게 섭취하세요.\n",
            "\n",
            "섭취한 지방 : 19.24g / 권장 지방 섭취 : 18.00g\n",
            "적정 지방을 섭취했습니다.\n",
            "\n"
          ]
        }
      ],
      "source": [
        "sex = int(input(\"당신의 성별은 무엇입니까? 남자 : 1 / 여자 : 2  \"))\n",
        "while(1):\n",
        "  if sex == 1 or sex == 2:\n",
        "    break\n",
        "  else:\n",
        "    print(\"잘못된 값을 입력했습니다. 다시 입력해주세요.\\n\")\n",
        "    sex = int(input(\"당신의 성별은 무엇입니까? 남자 : 1 / 여자 : 2  \"))\n",
        "print()\n",
        "length = len(nutritive_components)-1\n",
        "\n",
        "for i in range(length+1):\n",
        "  if i == length:\n",
        "    inform = '총 영양성분 : '\n",
        "  else:\n",
        "    inform = f'음식{i} : {food_name[i]}'\n",
        "  for j in range(len(df.columns[1:])):\n",
        "    inform  += f' / {df.columns[1:][j]} : {nutritive_components[i][j]}'\n",
        "    if j == 7:\n",
        "      inform += '\\n'\n",
        "  print(inform)\n",
        "print()\n",
        "\n",
        "num_lst = [1,2,5,4]\n",
        "name_lst = [\"칼로리\", \"탄수화물\", \"단백질\", \"지방\"]\n",
        "word_lst = [\"를\", \"을\", \"을\", \"을\"]\n",
        "val_name_lst = [\"Kcal\", \"g\", \"g\", \"g\"]\n",
        "m_val_lst = [2600, 324, 65, 54]\n",
        "w_val_lst = [2600, 324, 55, 54]\n",
        "\n",
        "if sex == 1:\n",
        "  for i in range(len(num_lst)):\n",
        "    print(f\"섭취한 {name_lst[i]} : {nutritive_components[length][num_lst[i]]}{val_name_lst[i]} / 권장 {name_lst[i]} 섭취 : {m_val_lst[i]/3:.2f}{val_name_lst[i]}\")\n",
        "    if nutritive_components[length][num_lst[i]] < (m_val_lst[i] / 3) * 0.9:\n",
        "      print(f\"이번 식사는 {name_lst[i]}가 적습니다. 다른 식사에서 더 많은 {name_lst[i]}{word_lst[i]} 보충하세요.\\n\")\n",
        "    elif nutritive_components[length][num_lst[i]] >= (m_val_lst[i] / 3) * 0.9 and nutritive_components[length][num_lst[i]] <= (m_val_lst[i] / 3) * 1.1:\n",
        "      print(f\"적정 {name_lst[i]}{word_lst[i]} 섭취했습니다.\\n\")\n",
        "    else:\n",
        "      print(f\"이번 식사는 {name_lst[i]}가 많습니다. 다른 식사에서 {name_lst[i]}{word_lst[i]} 적게 섭취하세요.\\n\")\n",
        "elif sex == 2:\n",
        "  for i in range(len(num_lst)):\n",
        "    print(f\"섭취한 {name_lst[i]} : {nutritive_components[length][num_lst[i]]}{val_name_lst[i]} / 권장 {name_lst[i]} 섭취 : {w_val_lst[i]/3:.2f}{val_name_lst[i]}\")\n",
        "    if nutritive_components[length][num_lst[i]] < (w_val_lst[i] / 3) * 0.9:\n",
        "      print(f\"이번 식사는 {name_lst[i]}가 적습니다. 다른 식사에서 더 많은 {name_lst[i]}{word_lst[i]} 보충하세요.\\n\")\n",
        "    elif nutritive_components[length][num_lst[i]] >= (w_val_lst[i] / 3) * 0.9 and nutritive_components[length][num_lst[i]] <= (w_val_lst[i] / 3) * 1.1:\n",
        "      print(f\"적정 {name_lst[i]}{word_lst[i]} 섭취했습니다.\\n\")\n",
        "    else:\n",
        "      print(f\"이번 식사는 {name_lst[i]}가 많습니다. 다른 식사에서 {name_lst[i]}{word_lst[i]} 적게 섭취하세요.\\n\")"
      ]
    },
    {
      "cell_type": "code",
      "execution_count": null,
      "metadata": {
        "id": "fKUYQ56mbs2L",
        "colab": {
          "base_uri": "https://localhost:8080/",
          "height": 92
        },
        "outputId": "2c478aea-d148-4828-c706-fb9c828b7bad"
      },
      "outputs": [
        {
          "output_type": "execute_result",
          "data": {
            "text/plain": [
              "'\\n필요량 / 권장 / 상한\\n20대 남자 \\n에너지 :  2600 /- /- Kcal, 탄수화물 : 100/ 130/- g, 단백질 : 50/ 65/-g\\n지방 : -/-/51\\n칼슘 : 650 / 800 / 2500 mg, 인 : 580/700/3500mg, 마그네슘 : 300 / 360 / -\\n나트륨 : -/-/1500mg, 칼륨 : -/-/3500, 철 : 8 / 10 / 45mg, 아연 : 9 / 10 / 35mg\\n\\n20대 여자\\n에너지 :  2000 /- /- Kcal, 탄수화물 : 100/ 130/- g, 단백질 : 45/ 55/-g\\n칼슘 : 550 / 700 / 2500 mg, 인 : 580/700/3500mg, 마그네슘 : 230 / 280 / -\\n나트륨 : -/-/1500mg, 칼륨 : -/-/3500, 철 : 11 / 14 / 45, 아연 : 7 / 8 / 35\\n\\n출처 보건복지부 2020년 발표자료\\n남성 : 하루 칼로리 2600Kcal, 탄수화물 324g, 단백질 65g, 지방 54g\\n여성 : 하루 칼로리 2000Kcal, 탄수화물 324g, 단백질 55g, 지방 54g\\n'"
            ],
            "application/vnd.google.colaboratory.intrinsic+json": {
              "type": "string"
            }
          },
          "metadata": {},
          "execution_count": 19
        }
      ],
      "source": [
        "  \"\"\"\n",
        "  필요량 / 권장 / 상한\n",
        "  20대 남자 \n",
        "  에너지 :  2600 /- /- Kcal, 탄수화물 : 100/ 130/- g, 단백질 : 50/ 65/-g\n",
        "  지방 : -/-/51\n",
        "  칼슘 : 650 / 800 / 2500 mg, 인 : 580/700/3500mg, 마그네슘 : 300 / 360 / -\n",
        "  나트륨 : -/-/1500mg, 칼륨 : -/-/3500, 철 : 8 / 10 / 45mg, 아연 : 9 / 10 / 35mg\n",
        "\n",
        "  20대 여자\n",
        "  에너지 :  2000 /- /- Kcal, 탄수화물 : 100/ 130/- g, 단백질 : 45/ 55/-g\n",
        "  칼슘 : 550 / 700 / 2500 mg, 인 : 580/700/3500mg, 마그네슘 : 230 / 280 / -\n",
        "  나트륨 : -/-/1500mg, 칼륨 : -/-/3500, 철 : 11 / 14 / 45, 아연 : 7 / 8 / 35\n",
        "\n",
        "  출처 보건복지부 2020년 발표자료\n",
        "  남성 : 하루 칼로리 2600Kcal, 탄수화물 324g, 단백질 65g, 지방 54g\n",
        "  여성 : 하루 칼로리 2000Kcal, 탄수화물 324g, 단백질 55g, 지방 54g\n",
        "  \"\"\""
      ]
    }
  ],
  "metadata": {
    "accelerator": "GPU",
    "colab": {
      "provenance": []
    },
    "gpuClass": "standard",
    "kernelspec": {
      "display_name": "Python 3",
      "name": "python3"
    },
    "language_info": {
      "name": "python"
    }
  },
  "nbformat": 4,
  "nbformat_minor": 0
}